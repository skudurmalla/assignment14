{
 "cells": [
  {
   "cell_type": "markdown",
   "metadata": {},
   "source": [
    "Read the following data set:\n",
    "https://archive.ics.uci.edu/ml/machine-learning-databases/adult/adult.data\n",
    "Task:\n",
    "1. Create an sqlalchemy engine using a sample from the data set\n",
    "2. Write two basic update queries\n",
    "3. Write two delete queries\n",
    "4. Write two filter queries\n",
    "5. Write two function queries"
   ]
  },
  {
   "cell_type": "code",
   "execution_count": 1,
   "metadata": {},
   "outputs": [],
   "source": [
    "from sqlalchemy import create_engine\n",
    "from sqlalchemy.ext.declarative import declarative_base\n",
    "from sqlalchemy import Column, Integer, String\n",
    "from sqlalchemy.orm import sessionmaker\n",
    "from sqlalchemy.ext.declarative import declarative_base\n",
    "from sqlalchemy import func\n",
    "from sqlalchemy import text"
   ]
  },
  {
   "cell_type": "markdown",
   "metadata": {},
   "source": [
    "# 1.Create an sqlalchemy engine using a sample from the data set"
   ]
  },
  {
   "cell_type": "code",
   "execution_count": 2,
   "metadata": {},
   "outputs": [],
   "source": [
    "Base = declarative_base()\n",
    "engine = create_engine('sqlite:///:memory:', echo=True)"
   ]
  },
  {
   "cell_type": "code",
   "execution_count": 3,
   "metadata": {},
   "outputs": [],
   "source": [
    "class Adult(Base):\n",
    "...     __tablename__ = 'Adult'\n",
    "...\n",
    "...     id = Column(Integer, primary_key=True)\n",
    "...     age = Column(Integer)\n",
    "...     workclass = Column(String)\n",
    "...     fnlwgt = Column(String)\n",
    "...     education = Column(String)\n",
    "...     education_num = Column(String)\n",
    "...     marital_status = Column(String)\n",
    "...     occupation = Column(String)\n",
    "...     relationship = Column(String)\n",
    "...     race = Column(String)\n",
    "...     sex = Column(String)\n",
    "...     capital_gain = Column(Integer)\n",
    "...     capital_loss = Column(Integer)\n",
    "...     hours_per_week = Column(Integer)\n",
    "...     native_country = Column(String)\n",
    "...     income = Column(String)\n",
    "...\n",
    "...     def __repr__(self):\n",
    "...         return \"<Adult(age='%d', workclass='%s', fnlwgt='%s, education='%s', education_num='%s', marital_status='%s', occupation='%s', relationship='%s' race='%s', sex='%s', capital_gain='%d', capital_loss='%d', hours_per_week='%d', native_country='%s', income='%s')>\" % (\n",
    "...         self.age, self.workclass, self.fnlwgt, self.education, self.education_num, self.marital_status, self.occupation, self.relationship, self.race, self.sex, self.capital_gain, self.capital_loss, self.hours_per_week, self.native_country, self.income)"
   ]
  },
  {
   "cell_type": "code",
   "execution_count": 4,
   "metadata": {},
   "outputs": [
    {
     "data": {
      "text/plain": [
       "Table('Adult', MetaData(bind=None), Column('id', Integer(), table=<Adult>, primary_key=True, nullable=False), Column('age', Integer(), table=<Adult>), Column('workclass', String(), table=<Adult>), Column('fnlwgt', String(), table=<Adult>), Column('education', String(), table=<Adult>), Column('education_num', String(), table=<Adult>), Column('marital_status', String(), table=<Adult>), Column('occupation', String(), table=<Adult>), Column('relationship', String(), table=<Adult>), Column('race', String(), table=<Adult>), Column('sex', String(), table=<Adult>), Column('capital_gain', Integer(), table=<Adult>), Column('capital_loss', Integer(), table=<Adult>), Column('hours_per_week', Integer(), table=<Adult>), Column('native_country', String(), table=<Adult>), Column('income', String(), table=<Adult>), schema=None)"
      ]
     },
     "execution_count": 4,
     "metadata": {},
     "output_type": "execute_result"
    }
   ],
   "source": [
    "# Dipslay the Columns of Adult table\n",
    "Adult.__table__"
   ]
  },
  {
   "cell_type": "code",
   "execution_count": 5,
   "metadata": {},
   "outputs": [
    {
     "name": "stdout",
     "output_type": "stream",
     "text": [
      "2018-08-18 16:24:27,935 INFO sqlalchemy.engine.base.Engine SELECT CAST('test plain returns' AS VARCHAR(60)) AS anon_1\n",
      "2018-08-18 16:24:27,937 INFO sqlalchemy.engine.base.Engine ()\n",
      "2018-08-18 16:24:27,940 INFO sqlalchemy.engine.base.Engine SELECT CAST('test unicode returns' AS VARCHAR(60)) AS anon_1\n",
      "2018-08-18 16:24:27,941 INFO sqlalchemy.engine.base.Engine ()\n",
      "2018-08-18 16:24:27,944 INFO sqlalchemy.engine.base.Engine PRAGMA table_info(\"Adult\")\n",
      "2018-08-18 16:24:27,945 INFO sqlalchemy.engine.base.Engine ()\n",
      "2018-08-18 16:24:27,951 INFO sqlalchemy.engine.base.Engine \n",
      "CREATE TABLE \"Adult\" (\n",
      "\tid INTEGER NOT NULL, \n",
      "\tage INTEGER, \n",
      "\tworkclass VARCHAR, \n",
      "\tfnlwgt VARCHAR, \n",
      "\teducation VARCHAR, \n",
      "\teducation_num VARCHAR, \n",
      "\tmarital_status VARCHAR, \n",
      "\toccupation VARCHAR, \n",
      "\trelationship VARCHAR, \n",
      "\trace VARCHAR, \n",
      "\tsex VARCHAR, \n",
      "\tcapital_gain INTEGER, \n",
      "\tcapital_loss INTEGER, \n",
      "\thours_per_week INTEGER, \n",
      "\tnative_country VARCHAR, \n",
      "\tincome VARCHAR, \n",
      "\tPRIMARY KEY (id)\n",
      ")\n",
      "\n",
      "\n",
      "2018-08-18 16:24:27,952 INFO sqlalchemy.engine.base.Engine ()\n",
      "2018-08-18 16:24:27,956 INFO sqlalchemy.engine.base.Engine COMMIT\n"
     ]
    }
   ],
   "source": [
    "# Create Adult table\n",
    "Base.metadata.create_all(engine)"
   ]
  },
  {
   "cell_type": "code",
   "execution_count": 6,
   "metadata": {},
   "outputs": [
    {
     "name": "stdout",
     "output_type": "stream",
     "text": [
      "2018-08-18 16:24:28,857 INFO sqlalchemy.engine.base.Engine BEGIN (implicit)\n",
      "2018-08-18 16:24:28,861 INFO sqlalchemy.engine.base.Engine INSERT INTO \"Adult\" (age, workclass, fnlwgt, education, education_num, marital_status, occupation, relationship, race, sex, capital_gain, capital_loss, hours_per_week, native_country, income) VALUES (?, ?, ?, ?, ?, ?, ?, ?, ?, ?, ?, ?, ?, ?, ?)\n",
      "2018-08-18 16:24:28,864 INFO sqlalchemy.engine.base.Engine ('39', 'State-gov', '77516', 'Bachelors', '13', 'Not-in-family', 'Adm-clerical', 'Never-married', 'White', 'Male', '2174', '0', '40', 'United-States', '<=50K')\n",
      "2018-08-18 16:24:28,867 INFO sqlalchemy.engine.base.Engine INSERT INTO \"Adult\" (age, workclass, fnlwgt, education, education_num, marital_status, occupation, relationship, race, sex, capital_gain, capital_loss, hours_per_week, native_country, income) VALUES (?, ?, ?, ?, ?, ?, ?, ?, ?, ?, ?, ?, ?, ?, ?)\n",
      "2018-08-18 16:24:28,873 INFO sqlalchemy.engine.base.Engine (50, 'Self-emp-not-inc', '83311', 'Bachelors', '13', 'Husband', 'Exec-managerial', 'Married-civ-spouse', 'White', 'Male', 0, 0, 23, 'United-States', '<=50K')\n",
      "2018-08-18 16:24:28,876 INFO sqlalchemy.engine.base.Engine INSERT INTO \"Adult\" (age, workclass, fnlwgt, education, education_num, marital_status, occupation, relationship, race, sex, capital_gain, capital_loss, hours_per_week, native_country, income) VALUES (?, ?, ?, ?, ?, ?, ?, ?, ?, ?, ?, ?, ?, ?, ?)\n",
      "2018-08-18 16:24:28,877 INFO sqlalchemy.engine.base.Engine (53, 'Private', '234721', '11th', '7', 'Not-in-family', 'Handlers-cleaners', 'Divorced', 'Black', 'Male', 0, 0, 40, 'United-States', '<=50K')\n",
      "2018-08-18 16:24:28,880 INFO sqlalchemy.engine.base.Engine INSERT INTO \"Adult\" (age, workclass, fnlwgt, education, education_num, marital_status, occupation, relationship, race, sex, capital_gain, capital_loss, hours_per_week, native_country, income) VALUES (?, ?, ?, ?, ?, ?, ?, ?, ?, ?, ?, ?, ?, ?, ?)\n",
      "2018-08-18 16:24:28,883 INFO sqlalchemy.engine.base.Engine (52, 'Self-emp-not-inc', '209642', 'HS-grad', '9', 'Husband', 'Exec-managerial', 'Married-civ-spouse', 'White', 'Male', 0, 0, 45, 'United-States', '>50K')\n",
      "2018-08-18 16:24:28,885 INFO sqlalchemy.engine.base.Engine INSERT INTO \"Adult\" (age, workclass, fnlwgt, education, education_num, marital_status, occupation, relationship, race, sex, capital_gain, capital_loss, hours_per_week, native_country, income) VALUES (?, ?, ?, ?, ?, ?, ?, ?, ?, ?, ?, ?, ?, ?, ?)\n",
      "2018-08-18 16:24:28,887 INFO sqlalchemy.engine.base.Engine (23, 'Private', '122272', 'Bachelors', '13', 'Own-child', 'Adm-clerical', 'Never-married', 'White', 'Female', 0, 0, 30, 'United-States', '<=50K')\n",
      "2018-08-18 16:24:28,891 INFO sqlalchemy.engine.base.Engine COMMIT\n"
     ]
    }
   ],
   "source": [
    "\n",
    "Session = sessionmaker(bind=engine)\n",
    "session = Session()\n",
    "\n",
    "# Add five records from the sample provided\n",
    "session.add_all([Adult(age='39', workclass='State-gov', fnlwgt='77516', education='Bachelors', education_num='13', relationship='Never-married', occupation='Adm-clerical', marital_status='Not-in-family',race='White', sex='Male', capital_gain='2174', capital_loss='0', hours_per_week='40', native_country='United-States', income='<=50K'),\n",
    "                 Adult(age=50, workclass='Self-emp-not-inc', fnlwgt='83311', education='Bachelors', education_num='13', relationship='Married-civ-spouse', occupation='Exec-managerial', marital_status='Husband',  race='White', sex='Male', capital_gain=0, capital_loss=0, hours_per_week=23, native_country='United-States', income='<=50K'),\n",
    "                 Adult(age=53, workclass='Private', fnlwgt='234721', education='11th', education_num='7', relationship='Divorced', occupation='Handlers-cleaners', marital_status='Not-in-family', race='Black', sex='Male', capital_gain=0, capital_loss=0, hours_per_week=40, native_country='United-States', income='<=50K'),\n",
    "                 Adult(age=52, workclass='Self-emp-not-inc', fnlwgt='209642', education='HS-grad', education_num='9', relationship='Married-civ-spouse', occupation='Exec-managerial', marital_status='Husband',  race='White', sex='Male', capital_gain=0, capital_loss=0, hours_per_week=45, native_country='United-States', income='>50K'),\n",
    "                 Adult(age=23, workclass='Private', fnlwgt='122272', education='Bachelors', education_num='13', relationship='Never-married', occupation='Adm-clerical', marital_status='Own-child',  race='White', sex='Female', capital_gain=0, capital_loss=0, hours_per_week=30, native_country='United-States', income='<=50K')\n",
    "                ])\n",
    "\n",
    "# Commit the inserted records\n",
    "session.commit()"
   ]
  },
  {
   "cell_type": "markdown",
   "metadata": {},
   "source": [
    "# 2 Write two filter queries"
   ]
  },
  {
   "cell_type": "code",
   "execution_count": 7,
   "metadata": {},
   "outputs": [
    {
     "name": "stdout",
     "output_type": "stream",
     "text": [
      "2018-08-18 16:24:30,476 INFO sqlalchemy.engine.base.Engine BEGIN (implicit)\n",
      "2018-08-18 16:24:30,481 INFO sqlalchemy.engine.base.Engine SELECT \"Adult\".id AS \"Adult_id\", \"Adult\".age AS \"Adult_age\", \"Adult\".workclass AS \"Adult_workclass\", \"Adult\".fnlwgt AS \"Adult_fnlwgt\", \"Adult\".education AS \"Adult_education\", \"Adult\".education_num AS \"Adult_education_num\", \"Adult\".marital_status AS \"Adult_marital_status\", \"Adult\".occupation AS \"Adult_occupation\", \"Adult\".relationship AS \"Adult_relationship\", \"Adult\".race AS \"Adult_race\", \"Adult\".sex AS \"Adult_sex\", \"Adult\".capital_gain AS \"Adult_capital_gain\", \"Adult\".capital_loss AS \"Adult_capital_loss\", \"Adult\".hours_per_week AS \"Adult_hours_per_week\", \"Adult\".native_country AS \"Adult_native_country\", \"Adult\".income AS \"Adult_income\" \n",
      "FROM \"Adult\" \n",
      "WHERE \"Adult\".income = ?\n",
      "2018-08-18 16:24:30,482 INFO sqlalchemy.engine.base.Engine ('>50K',)\n",
      "<Adult(age='52', workclass='Self-emp-not-inc', fnlwgt='209642, education='HS-grad', education_num='9', marital_status='Husband', occupation='Exec-managerial', relationship='Married-civ-spouse' race='White', sex='Male', capital_gain='0', capital_loss='0', hours_per_week='45', native_country='United-States', income='>50K')>\n"
     ]
    }
   ],
   "source": [
    "# Filter query for adult whose income is greater than 50k\n",
    "\n",
    "person_with_income_greater_50k = session.query(Adult).filter_by(income='>50K').one()\n",
    "print(person_with_income_greater_50k)"
   ]
  },
  {
   "cell_type": "code",
   "execution_count": 8,
   "metadata": {},
   "outputs": [
    {
     "name": "stdout",
     "output_type": "stream",
     "text": [
      "2018-08-18 16:24:31,304 INFO sqlalchemy.engine.base.Engine SELECT \"Adult\".id AS \"Adult_id\", \"Adult\".age AS \"Adult_age\", \"Adult\".workclass AS \"Adult_workclass\", \"Adult\".fnlwgt AS \"Adult_fnlwgt\", \"Adult\".education AS \"Adult_education\", \"Adult\".education_num AS \"Adult_education_num\", \"Adult\".marital_status AS \"Adult_marital_status\", \"Adult\".occupation AS \"Adult_occupation\", \"Adult\".relationship AS \"Adult_relationship\", \"Adult\".race AS \"Adult_race\", \"Adult\".sex AS \"Adult_sex\", \"Adult\".capital_gain AS \"Adult_capital_gain\", \"Adult\".capital_loss AS \"Adult_capital_loss\", \"Adult\".hours_per_week AS \"Adult_hours_per_week\", \"Adult\".native_country AS \"Adult_native_country\", \"Adult\".income AS \"Adult_income\" \n",
      "FROM \"Adult\" \n",
      "WHERE \"Adult\".fnlwgt = ?\n",
      "2018-08-18 16:24:31,306 INFO sqlalchemy.engine.base.Engine ('83311',)\n",
      "<Adult(age='50', workclass='Self-emp-not-inc', fnlwgt='83311, education='Bachelors', education_num='13', marital_status='Husband', occupation='Exec-managerial', relationship='Married-civ-spouse' race='White', sex='Male', capital_gain='0', capital_loss='0', hours_per_week='23', native_country='United-States', income='<=50K')>\n"
     ]
    }
   ],
   "source": [
    "person_with_fnlwgt_83311=session.query(Adult).filter_by(fnlwgt='83311').one()\n",
    "print(person_with_fnlwgt_83311)\n"
   ]
  },
  {
   "cell_type": "markdown",
   "metadata": {},
   "source": [
    "# 3.Write two basic update queries"
   ]
  },
  {
   "cell_type": "code",
   "execution_count": 9,
   "metadata": {},
   "outputs": [
    {
     "name": "stdout",
     "output_type": "stream",
     "text": [
      "2018-08-18 16:24:32,654 INFO sqlalchemy.engine.base.Engine UPDATE \"Adult\" SET hours_per_week=? WHERE \"Adult\".id = ?\n",
      "2018-08-18 16:24:32,656 INFO sqlalchemy.engine.base.Engine (50, 2)\n",
      "2018-08-18 16:24:32,660 INFO sqlalchemy.engine.base.Engine UPDATE \"Adult\" SET capital_gain=? WHERE \"Adult\".id = ?\n",
      "2018-08-18 16:24:32,661 INFO sqlalchemy.engine.base.Engine (200, 4)\n",
      "2018-08-18 16:24:32,663 INFO sqlalchemy.engine.base.Engine COMMIT\n"
     ]
    }
   ],
   "source": [
    "person_with_income_greater_50k.capital_gain=200\n",
    "\n",
    "person_with_fnlwgt_83311.hours_per_week=50\n",
    "\n",
    "# Commit the session for the updated records\n",
    "session.commit()"
   ]
  },
  {
   "cell_type": "code",
   "execution_count": 10,
   "metadata": {},
   "outputs": [
    {
     "name": "stdout",
     "output_type": "stream",
     "text": [
      "2018-08-18 16:24:33,215 INFO sqlalchemy.engine.base.Engine BEGIN (implicit)\n",
      "2018-08-18 16:24:33,219 INFO sqlalchemy.engine.base.Engine SELECT \"Adult\".id AS \"Adult_id\", \"Adult\".age AS \"Adult_age\", \"Adult\".workclass AS \"Adult_workclass\", \"Adult\".fnlwgt AS \"Adult_fnlwgt\", \"Adult\".education AS \"Adult_education\", \"Adult\".education_num AS \"Adult_education_num\", \"Adult\".marital_status AS \"Adult_marital_status\", \"Adult\".occupation AS \"Adult_occupation\", \"Adult\".relationship AS \"Adult_relationship\", \"Adult\".race AS \"Adult_race\", \"Adult\".sex AS \"Adult_sex\", \"Adult\".capital_gain AS \"Adult_capital_gain\", \"Adult\".capital_loss AS \"Adult_capital_loss\", \"Adult\".hours_per_week AS \"Adult_hours_per_week\", \"Adult\".native_country AS \"Adult_native_country\", \"Adult\".income AS \"Adult_income\" \n",
      "FROM \"Adult\" \n",
      "WHERE \"Adult\".income = ?\n",
      "2018-08-18 16:24:33,220 INFO sqlalchemy.engine.base.Engine ('>50K',)\n",
      "<Adult(age='52', workclass='Self-emp-not-inc', fnlwgt='209642, education='HS-grad', education_num='9', marital_status='Husband', occupation='Exec-managerial', relationship='Married-civ-spouse' race='White', sex='Male', capital_gain='200', capital_loss='0', hours_per_week='45', native_country='United-States', income='>50K')>\n"
     ]
    }
   ],
   "source": [
    "#query agin to check for the updated\n",
    "\n",
    "person_with_income_greater_50k = session.query(Adult).filter_by(income='>50K').one()\n",
    "print(person_with_income_greater_50k)"
   ]
  },
  {
   "cell_type": "code",
   "execution_count": 11,
   "metadata": {},
   "outputs": [
    {
     "name": "stdout",
     "output_type": "stream",
     "text": [
      "2018-08-18 16:24:33,826 INFO sqlalchemy.engine.base.Engine SELECT \"Adult\".id AS \"Adult_id\", \"Adult\".age AS \"Adult_age\", \"Adult\".workclass AS \"Adult_workclass\", \"Adult\".fnlwgt AS \"Adult_fnlwgt\", \"Adult\".education AS \"Adult_education\", \"Adult\".education_num AS \"Adult_education_num\", \"Adult\".marital_status AS \"Adult_marital_status\", \"Adult\".occupation AS \"Adult_occupation\", \"Adult\".relationship AS \"Adult_relationship\", \"Adult\".race AS \"Adult_race\", \"Adult\".sex AS \"Adult_sex\", \"Adult\".capital_gain AS \"Adult_capital_gain\", \"Adult\".capital_loss AS \"Adult_capital_loss\", \"Adult\".hours_per_week AS \"Adult_hours_per_week\", \"Adult\".native_country AS \"Adult_native_country\", \"Adult\".income AS \"Adult_income\" \n",
      "FROM \"Adult\" \n",
      "WHERE \"Adult\".fnlwgt = ?\n",
      "2018-08-18 16:24:33,830 INFO sqlalchemy.engine.base.Engine ('83311',)\n",
      "<Adult(age='50', workclass='Self-emp-not-inc', fnlwgt='83311, education='Bachelors', education_num='13', marital_status='Husband', occupation='Exec-managerial', relationship='Married-civ-spouse' race='White', sex='Male', capital_gain='0', capital_loss='0', hours_per_week='50', native_country='United-States', income='<=50K')>\n"
     ]
    }
   ],
   "source": [
    "person_with_fnlwgt_83311=session.query(Adult).filter_by(fnlwgt='83311').one()\n",
    "print(person_with_fnlwgt_83311)"
   ]
  },
  {
   "cell_type": "markdown",
   "metadata": {},
   "source": [
    "# 4 Write two function queries"
   ]
  },
  {
   "cell_type": "code",
   "execution_count": 12,
   "metadata": {},
   "outputs": [
    {
     "name": "stdout",
     "output_type": "stream",
     "text": [
      "2018-08-18 16:24:38,311 INFO sqlalchemy.engine.base.Engine SELECT \"Adult\".occupation AS \"Adult_occupation\", count(\"Adult\".occupation) AS count_1 \n",
      "FROM \"Adult\" GROUP BY \"Adult\".occupation\n",
      "2018-08-18 16:24:38,313 INFO sqlalchemy.engine.base.Engine ()\n"
     ]
    },
    {
     "data": {
      "text/plain": [
       "[('Adm-clerical', 2), ('Exec-managerial', 2), ('Handlers-cleaners', 1)]"
      ]
     },
     "execution_count": 12,
     "metadata": {},
     "output_type": "execute_result"
    }
   ],
   "source": [
    "# Function query\n",
    "session.query(Adult.occupation, func.count(Adult.occupation)).group_by(Adult.occupation).all()"
   ]
  },
  {
   "cell_type": "code",
   "execution_count": 13,
   "metadata": {},
   "outputs": [
    {
     "name": "stdout",
     "output_type": "stream",
     "text": [
      "2018-08-18 16:24:39,108 INFO sqlalchemy.engine.base.Engine SELECT \"Adult\".sex AS \"Adult_sex\", count(\"Adult\".sex) AS count_1 \n",
      "FROM \"Adult\" GROUP BY \"Adult\".sex\n",
      "2018-08-18 16:24:39,110 INFO sqlalchemy.engine.base.Engine ()\n"
     ]
    },
    {
     "data": {
      "text/plain": [
       "[('Female', 1), ('Male', 4)]"
      ]
     },
     "execution_count": 13,
     "metadata": {},
     "output_type": "execute_result"
    }
   ],
   "source": [
    "session.query(Adult.sex, func.count(Adult.sex)).group_by(Adult.sex).all()"
   ]
  },
  {
   "cell_type": "markdown",
   "metadata": {},
   "source": [
    "# 5 Write two delete queries"
   ]
  },
  {
   "cell_type": "code",
   "execution_count": 14,
   "metadata": {},
   "outputs": [
    {
     "name": "stdout",
     "output_type": "stream",
     "text": [
      "2018-08-18 16:24:40,675 INFO sqlalchemy.engine.base.Engine DELETE FROM \"Adult\" WHERE \"Adult\".id = ?\n",
      "2018-08-18 16:24:40,676 INFO sqlalchemy.engine.base.Engine ((2,), (4,))\n",
      "2018-08-18 16:24:40,680 INFO sqlalchemy.engine.base.Engine COMMIT\n"
     ]
    }
   ],
   "source": [
    "session.delete(person_with_income_greater_50k)\n",
    "session.delete(person_with_fnlwgt_83311)\n",
    "\n",
    "# Commit the session\n",
    "session.commit()"
   ]
  },
  {
   "cell_type": "code",
   "execution_count": null,
   "metadata": {},
   "outputs": [],
   "source": []
  }
 ],
 "metadata": {
  "kernelspec": {
   "display_name": "Python 3",
   "language": "python",
   "name": "python3"
  },
  "language_info": {
   "codemirror_mode": {
    "name": "ipython",
    "version": 3
   },
   "file_extension": ".py",
   "mimetype": "text/x-python",
   "name": "python",
   "nbconvert_exporter": "python",
   "pygments_lexer": "ipython3",
   "version": "3.5.5"
  }
 },
 "nbformat": 4,
 "nbformat_minor": 2
}
